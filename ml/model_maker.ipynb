{
 "cells": [
  {
   "cell_type": "code",
   "execution_count": 17,
   "source": [
    "import matplotlib.pyplot as plt\r\n",
    "import numpy as np\r\n",
    "import os\r\n",
    "import tensorflow as tf\r\n",
    "\r\n",
    "from tensorflow import keras\r\n",
    "from tensorflow.keras import layers\r\n",
    "from tensorflow.keras.models import Sequential"
   ],
   "outputs": [],
   "metadata": {}
  },
  {
   "cell_type": "code",
   "execution_count": 61,
   "source": [
    "train_ds = tf.keras.preprocessing.image_dataset_from_directory(\r\n",
    "  \"./dataset\",\r\n",
    "  validation_split=0.1,\r\n",
    "  subset=\"training\",\r\n",
    "  seed=1,\r\n",
    "  batch_size=32)\r\n",
    "\r\n",
    "val_ds = tf.keras.preprocessing.image_dataset_from_directory(\r\n",
    "  \"./dataset\",\r\n",
    "  validation_split=0.1,\r\n",
    "  subset=\"validation\",\r\n",
    "  seed=1,\r\n",
    "  batch_size=32)\r\n",
    "  \r\n",
    "class_names = train_ds.class_names\r\n",
    "print(class_names)"
   ],
   "outputs": [
    {
     "output_type": "stream",
     "name": "stdout",
     "text": [
      "Found 948 files belonging to 2 classes.\n",
      "Using 854 files for training.\n",
      "Found 948 files belonging to 2 classes.\n",
      "Using 94 files for validation.\n",
      "['attractive', 'not-attractive']\n"
     ]
    }
   ],
   "metadata": {}
  },
  {
   "cell_type": "code",
   "execution_count": 63,
   "source": [
    "AUTOTUNE = tf.data.AUTOTUNE\r\n",
    "\r\n",
    "train_ds = train_ds.cache().shuffle(1000).prefetch(buffer_size=AUTOTUNE)\r\n",
    "val_ds = val_ds.cache().prefetch(buffer_size=AUTOTUNE)"
   ],
   "outputs": [],
   "metadata": {}
  },
  {
   "cell_type": "code",
   "execution_count": 65,
   "source": [
    "resize_and_rescale = tf.keras.Sequential([\r\n",
    "  layers.experimental.preprocessing.Resizing(500, 500),\r\n",
    "  layers.experimental.preprocessing.Rescaling(1./255)\r\n",
    "])\r\n"
   ],
   "outputs": [],
   "metadata": {}
  },
  {
   "cell_type": "code",
   "execution_count": 103,
   "source": [
    "\r\n",
    "model = Sequential([\r\n",
    "  resize_and_rescale,\r\n",
    "  layers.Conv2D(2, 3, padding='same', activation='relu'),\r\n",
    "  layers.MaxPooling2D(),\r\n",
    "  layers.Conv2D(4, 3, padding='same', activation='relu'),\r\n",
    "  layers.MaxPooling2D(),\r\n",
    "  layers.Conv2D(8, 3, padding='same', activation='relu'),\r\n",
    "  layers.MaxPooling2D(),\r\n",
    "  layers.Conv2D(16, 3, padding='same', activation='relu'),\r\n",
    "  layers.MaxPooling2D(),\r\n",
    "  layers.Dropout(0.2),\r\n",
    "  layers.Conv2D(32, 3, padding='same', activation='relu'),\r\n",
    "  layers.MaxPooling2D(),\r\n",
    "  layers.Dropout(0.2),\r\n",
    "  layers.Conv2D(64, 3, padding='same', activation='relu'),\r\n",
    "  layers.MaxPooling2D(),\r\n",
    "  layers.Dropout(0.2),\r\n",
    "  layers.Flatten(),\r\n",
    "  layers.Dense(256, activation='relu'),\r\n",
    "  layers.Dense(2)\r\n",
    "])"
   ],
   "outputs": [],
   "metadata": {}
  },
  {
   "cell_type": "code",
   "execution_count": 104,
   "source": [
    "model.compile(optimizer='adam',\r\n",
    "              loss=tf.keras.losses.SparseCategoricalCrossentropy(from_logits=True),\r\n",
    "              metrics=['accuracy'])"
   ],
   "outputs": [],
   "metadata": {}
  },
  {
   "cell_type": "code",
   "execution_count": 105,
   "source": [
    "epochs=10\r\n",
    "history = model.fit(\r\n",
    "  train_ds,\r\n",
    "  validation_data=val_ds,\r\n",
    "  epochs=epochs\r\n",
    ")"
   ],
   "outputs": [
    {
     "output_type": "stream",
     "name": "stdout",
     "text": [
      "Epoch 1/10\n",
      "27/27 [==============================] - 3s 82ms/step - loss: 0.6044 - accuracy: 0.7447 - val_loss: 0.5358 - val_accuracy: 0.7766\n",
      "Epoch 2/10\n",
      "27/27 [==============================] - 2s 76ms/step - loss: 0.5392 - accuracy: 0.7670 - val_loss: 0.4490 - val_accuracy: 0.7766\n",
      "Epoch 3/10\n",
      "27/27 [==============================] - 2s 76ms/step - loss: 0.3651 - accuracy: 0.7892 - val_loss: 0.2215 - val_accuracy: 0.9149\n",
      "Epoch 4/10\n",
      "27/27 [==============================] - 2s 76ms/step - loss: 0.2349 - accuracy: 0.9005 - val_loss: 0.0936 - val_accuracy: 0.9894\n",
      "Epoch 5/10\n",
      "27/27 [==============================] - 2s 76ms/step - loss: 0.1735 - accuracy: 0.9321 - val_loss: 0.0962 - val_accuracy: 0.9894\n",
      "Epoch 6/10\n",
      "27/27 [==============================] - 2s 76ms/step - loss: 0.1395 - accuracy: 0.9391 - val_loss: 0.0619 - val_accuracy: 0.9894\n",
      "Epoch 7/10\n",
      "27/27 [==============================] - 2s 76ms/step - loss: 0.1218 - accuracy: 0.9450 - val_loss: 0.0510 - val_accuracy: 0.9894\n",
      "Epoch 8/10\n",
      "27/27 [==============================] - 2s 76ms/step - loss: 0.1099 - accuracy: 0.9508 - val_loss: 0.0980 - val_accuracy: 0.9681\n",
      "Epoch 9/10\n",
      "27/27 [==============================] - 2s 76ms/step - loss: 0.0992 - accuracy: 0.9543 - val_loss: 0.1144 - val_accuracy: 0.9574\n",
      "Epoch 10/10\n",
      "27/27 [==============================] - 2s 76ms/step - loss: 0.1258 - accuracy: 0.9485 - val_loss: 0.0486 - val_accuracy: 0.9894\n"
     ]
    }
   ],
   "metadata": {}
  },
  {
   "cell_type": "code",
   "execution_count": 106,
   "source": [
    "acc = history.history['accuracy']\r\n",
    "val_acc = history.history['val_accuracy']\r\n",
    "\r\n",
    "loss = history.history['loss']\r\n",
    "val_loss = history.history['val_loss']\r\n",
    "\r\n",
    "epochs_range = range(epochs)\r\n",
    "\r\n",
    "plt.figure(figsize=(8, 8))\r\n",
    "plt.subplot(1, 2, 1)\r\n",
    "plt.plot(epochs_range, acc, label='Training Accuracy')\r\n",
    "plt.plot(epochs_range, val_acc, label='Validation Accuracy')\r\n",
    "plt.legend(loc='lower right')\r\n",
    "plt.title('Training and Validation Accuracy')\r\n",
    "\r\n",
    "plt.subplot(1, 2, 2)\r\n",
    "plt.plot(epochs_range, loss, label='Training Loss')\r\n",
    "plt.plot(epochs_range, val_loss, label='Validation Loss')\r\n",
    "plt.legend(loc='upper right')\r\n",
    "plt.title('Training and Validation Loss')\r\n",
    "plt.show()"
   ],
   "outputs": [
    {
     "output_type": "display_data",
     "data": {
      "image/png": "[encoded data removed]",
      "text/plain": [
       "<Figure size 576x576 with 2 Axes>"
      ]
     },
     "metadata": {
      "needs_background": "light"
     }
    }
   ],
   "metadata": {}
  },
  {
   "cell_type": "code",
   "execution_count": 107,
   "source": [
    "path = r\"C:\\Users\\Tyler Kowalski\\Desktop\\testimg.jpg\"\r\n",
    "test_image = keras.preprocessing.image.load_img(path)\r\n",
    "img_array = keras.preprocessing.image.img_to_array(test_image)\r\n",
    "img_array = tf.expand_dims(img_array, 0)\r\n",
    "\r\n",
    "predictions = model.predict(img_array)\r\n",
    "score = tf.nn.softmax(predictions[0])\r\n",
    "\r\n",
    "print(\r\n",
    "    \"This person is most likely {} with a {:.2f} percent confidence.\"\r\n",
    "    .format(class_names[np.argmax(score)], 100 * np.max(score))\r\n",
    ")"
   ],
   "outputs": [
    {
     "output_type": "stream",
     "name": "stdout",
     "text": [
      "WARNING:tensorflow:6 out of the last 19 calls to <function Model.make_predict_function.<locals>.predict_function at 0x0000026AB1D3C700> triggered tf.function retracing. Tracing is expensive and the excessive number of tracings could be due to (1) creating @tf.function repeatedly in a loop, (2) passing tensors with different shapes, (3) passing Python objects instead of tensors. For (1), please define your @tf.function outside of the loop. For (2), @tf.function has experimental_relax_shapes=True option that relaxes argument shapes that can avoid unnecessary retracing. For (3), please refer to https://www.tensorflow.org/guide/function#controlling_retracing and https://www.tensorflow.org/api_docs/python/tf/function for  more details.\n",
      "This person is most likely not-attractive with a 100.00 percent confidence.\n"
     ]
    }
   ],
   "metadata": {}
  }
 ],
 "metadata": {
  "orig_nbformat": 4,
  "language_info": {
   "name": "python",
   "version": "3.9.4",
   "mimetype": "text/x-python",
   "codemirror_mode": {
    "name": "ipython",
    "version": 3
   },
   "pygments_lexer": "ipython3",
   "nbconvert_exporter": "python",
   "file_extension": ".py"
  },
  "kernelspec": {
   "name": "python3",
   "display_name": "Python 3.9.4 64-bit"
  },
  "interpreter": {
   "hash": "6cbb16c13b18e0460413e9178e417aef82e3a5f0d8a809cc8c4ffdee2c561ffd"
  }
 },
 "nbformat": 4,
 "nbformat_minor": 2
}