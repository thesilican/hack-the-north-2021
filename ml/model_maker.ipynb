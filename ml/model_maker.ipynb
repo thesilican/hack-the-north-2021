{
 "cells": [
  {
   "cell_type": "code",
   "execution_count": 2,
   "source": [
    "import matplotlib.pyplot as plt\r\n",
    "import numpy as np\r\n",
    "import os\r\n",
    "import tensorflow as tf\r\n",
    "\r\n",
    "from tensorflow import keras\r\n",
    "from tensorflow.keras import layers\r\n",
    "from tensorflow.keras.models import Sequential"
   ],
   "outputs": [],
   "metadata": {}
  },
  {
   "cell_type": "code",
   "execution_count": 10,
   "source": [
    "train_ds = tf.keras.preprocessing.image_dataset_from_directory(\r\n",
    "  \"./dataset\",\r\n",
    "  validation_split=0.1,\r\n",
    "  subset=\"training\",\r\n",
    "  seed=1,\r\n",
    "  batch_size=32)\r\n",
    "\r\n",
    "val_ds = tf.keras.preprocessing.image_dataset_from_directory(\r\n",
    "  \"./dataset\",\r\n",
    "  validation_split=0.1,\r\n",
    "  subset=\"validation\",\r\n",
    "  seed=1,\r\n",
    "  batch_size=32)\r\n",
    "  \r\n",
    "class_names = train_ds.class_names\r\n",
    "print(class_names)"
   ],
   "outputs": [
    {
     "output_type": "stream",
     "name": "stdout",
     "text": [
      "Found 948 files belonging to 2 classes.\n",
      "Using 854 files for training.\n",
      "Found 948 files belonging to 2 classes.\n",
      "Using 94 files for validation.\n",
      "['attractive', 'not-attractive']\n"
     ]
    }
   ],
   "metadata": {}
  },
  {
   "cell_type": "code",
   "execution_count": 11,
   "source": [
    "AUTOTUNE = tf.data.AUTOTUNE\r\n",
    "print(class_names)\r\n",
    "\r\n",
    "train_ds = train_ds.cache().shuffle(1000).prefetch(buffer_size=AUTOTUNE)\r\n",
    "val_ds = val_ds.cache().prefetch(buffer_size=AUTOTUNE)"
   ],
   "outputs": [
    {
     "output_type": "stream",
     "name": "stdout",
     "text": [
      "['attractive', 'not-attractive']\n"
     ]
    }
   ],
   "metadata": {}
  },
  {
   "cell_type": "code",
   "execution_count": 5,
   "source": [
    "resize_and_rescale = tf.keras.Sequential([\r\n",
    "  layers.experimental.preprocessing.Resizing(500, 500),\r\n",
    "  layers.experimental.preprocessing.Rescaling(1./255)\r\n",
    "])\r\n"
   ],
   "outputs": [],
   "metadata": {}
  },
  {
   "cell_type": "code",
   "execution_count": 6,
   "source": [
    "\r\n",
    "model = Sequential([\r\n",
    "  resize_and_rescale,\r\n",
    "  layers.Conv2D(2, 3, padding='same', activation='relu'),\r\n",
    "  layers.MaxPooling2D(),\r\n",
    "  layers.Conv2D(4, 3, padding='same', activation='relu'),\r\n",
    "  layers.MaxPooling2D(),\r\n",
    "  layers.Conv2D(8, 3, padding='same', activation='relu'),\r\n",
    "  layers.MaxPooling2D(),\r\n",
    "  layers.Conv2D(16, 3, padding='same', activation='relu'),\r\n",
    "  layers.MaxPooling2D(),\r\n",
    "  layers.Dropout(0.2),\r\n",
    "  layers.Conv2D(32, 3, padding='same', activation='relu'),\r\n",
    "  layers.MaxPooling2D(),\r\n",
    "  layers.Dropout(0.2),\r\n",
    "  layers.Conv2D(64, 3, padding='same', activation='relu'),\r\n",
    "  layers.MaxPooling2D(),\r\n",
    "  layers.Dropout(0.2),\r\n",
    "  layers.Flatten(),\r\n",
    "  layers.Dense(256, activation='relu'),\r\n",
    "  layers.Dense(2)\r\n",
    "])"
   ],
   "outputs": [],
   "metadata": {}
  },
  {
   "cell_type": "code",
   "execution_count": 7,
   "source": [
    "model.compile(optimizer='adam',\r\n",
    "              loss=tf.keras.losses.SparseCategoricalCrossentropy(from_logits=True),\r\n",
    "              metrics=['accuracy'])"
   ],
   "outputs": [],
   "metadata": {}
  },
  {
   "cell_type": "code",
   "execution_count": 8,
   "source": [
    "epochs=10\r\n",
    "history = model.fit(\r\n",
    "  train_ds,\r\n",
    "  validation_data=val_ds,\r\n",
    "  epochs=epochs\r\n",
    ")"
   ],
   "outputs": [
    {
     "output_type": "stream",
     "name": "stdout",
     "text": [
      "Epoch 1/10\n",
      "27/27 [==============================] - 17s 136ms/step - loss: 0.5594 - accuracy: 0.7658 - val_loss: 0.5690 - val_accuracy: 0.7766\n",
      "Epoch 2/10\n",
      "27/27 [==============================] - 2s 66ms/step - loss: 0.4910 - accuracy: 0.7670 - val_loss: 0.4232 - val_accuracy: 0.7766\n",
      "Epoch 3/10\n",
      "27/27 [==============================] - 2s 69ms/step - loss: 0.4244 - accuracy: 0.8197 - val_loss: 0.3154 - val_accuracy: 0.8511\n",
      "Epoch 4/10\n",
      "27/27 [==============================] - 2s 66ms/step - loss: 0.2853 - accuracy: 0.8782 - val_loss: 0.1958 - val_accuracy: 0.9468\n",
      "Epoch 5/10\n",
      "27/27 [==============================] - 2s 67ms/step - loss: 0.1977 - accuracy: 0.9227 - val_loss: 0.0998 - val_accuracy: 0.9894\n",
      "Epoch 6/10\n",
      "27/27 [==============================] - 2s 66ms/step - loss: 0.1438 - accuracy: 0.9415 - val_loss: 0.1186 - val_accuracy: 0.9362\n",
      "Epoch 7/10\n",
      "27/27 [==============================] - 2s 67ms/step - loss: 0.1396 - accuracy: 0.9543 - val_loss: 0.1230 - val_accuracy: 0.9787\n",
      "Epoch 8/10\n",
      "27/27 [==============================] - 2s 66ms/step - loss: 0.1310 - accuracy: 0.9461 - val_loss: 0.0696 - val_accuracy: 0.9787\n",
      "Epoch 9/10\n",
      "27/27 [==============================] - 2s 67ms/step - loss: 0.1032 - accuracy: 0.9578 - val_loss: 0.0748 - val_accuracy: 0.9787\n",
      "Epoch 10/10\n",
      "27/27 [==============================] - 2s 67ms/step - loss: 0.0754 - accuracy: 0.9742 - val_loss: 0.0690 - val_accuracy: 0.9787\n"
     ]
    }
   ],
   "metadata": {}
  },
  {
   "cell_type": "code",
   "execution_count": 9,
   "source": [
    "acc = history.history['accuracy']\r\n",
    "val_acc = history.history['val_accuracy']\r\n",
    "\r\n",
    "loss = history.history['loss']\r\n",
    "val_loss = history.history['val_loss']\r\n",
    "\r\n",
    "epochs_range = range(epochs)\r\n",
    "\r\n",
    "plt.figure(figsize=(8, 8))\r\n",
    "plt.subplot(1, 2, 1)\r\n",
    "plt.plot(epochs_range, acc, label='Training Accuracy')\r\n",
    "plt.plot(epochs_range, val_acc, label='Validation Accuracy')\r\n",
    "plt.legend(loc='lower right')\r\n",
    "plt.title('Training and Validation Accuracy')\r\n",
    "\r\n",
    "plt.subplot(1, 2, 2)\r\n",
    "plt.plot(epochs_range, loss, label='Training Loss')\r\n",
    "plt.plot(epochs_range, val_loss, label='Validation Loss')\r\n",
    "plt.legend(loc='upper right')\r\n",
    "plt.title('Training and Validation Loss')\r\n",
    "plt.show()"
   ],
   "outputs": [
    {
     "output_type": "display_data",
     "data": {
      "image/png": "[encoded data removed]",
      "text/plain": [
       "<Figure size 576x576 with 2 Axes>"
      ]
     },
     "metadata": {
      "needs_background": "light"
     }
    }
   ],
   "metadata": {}
  },
  {
   "cell_type": "code",
   "execution_count": 1,
   "source": [
    "path = r\"C:\\Users\\Tyler Kowalski\\Desktop\\smtg.png\"\r\n",
    "test_image = keras.preprocessing.image.load_img(path)\r\n",
    "img_array = keras.preprocessing.image.img_to_array(test_image)\r\n",
    "img_array = tf.expand_dims(img_array, 0)\r\n",
    "\r\n",
    "predictions = model.predict(img_array)\r\n",
    "print(predictions)\r\n",
    "score = tf.nn.softmax(predictions[0])\r\n",
    "\r\n",
    "print(\r\n",
    "    \"This person is most likely {} with a {:.2f} percent confidence.\"\r\n",
    "    .format(class_names[np.argmax(score)], 100 * np.max(score))\r\n",
    ")"
   ],
   "outputs": [
    {
     "output_type": "error",
     "ename": "NameError",
     "evalue": "name 'keras' is not defined",
     "traceback": [
      "\u001b[1;31m---------------------------------------------------------------------------\u001b[0m",
      "\u001b[1;31mNameError\u001b[0m                                 Traceback (most recent call last)",
      "\u001b[1;32mC:\\Users\\TYLERK~1\\AppData\\Local\\Temp/ipykernel_12668/2019764875.py\u001b[0m in \u001b[0;36m<module>\u001b[1;34m\u001b[0m\n\u001b[0;32m      1\u001b[0m \u001b[0mpath\u001b[0m \u001b[1;33m=\u001b[0m \u001b[1;34mr\"C:\\Users\\Tyler Kowalski\\Desktop\\smtg.png\"\u001b[0m\u001b[1;33m\u001b[0m\u001b[1;33m\u001b[0m\u001b[0m\n\u001b[1;32m----> 2\u001b[1;33m \u001b[0mtest_image\u001b[0m \u001b[1;33m=\u001b[0m \u001b[0mkeras\u001b[0m\u001b[1;33m.\u001b[0m\u001b[0mpreprocessing\u001b[0m\u001b[1;33m.\u001b[0m\u001b[0mimage\u001b[0m\u001b[1;33m.\u001b[0m\u001b[0mload_img\u001b[0m\u001b[1;33m(\u001b[0m\u001b[0mpath\u001b[0m\u001b[1;33m)\u001b[0m\u001b[1;33m\u001b[0m\u001b[1;33m\u001b[0m\u001b[0m\n\u001b[0m\u001b[0;32m      3\u001b[0m \u001b[0mimg_array\u001b[0m \u001b[1;33m=\u001b[0m \u001b[0mkeras\u001b[0m\u001b[1;33m.\u001b[0m\u001b[0mpreprocessing\u001b[0m\u001b[1;33m.\u001b[0m\u001b[0mimage\u001b[0m\u001b[1;33m.\u001b[0m\u001b[0mimg_to_array\u001b[0m\u001b[1;33m(\u001b[0m\u001b[0mtest_image\u001b[0m\u001b[1;33m)\u001b[0m\u001b[1;33m\u001b[0m\u001b[1;33m\u001b[0m\u001b[0m\n\u001b[0;32m      4\u001b[0m \u001b[0mimg_array\u001b[0m \u001b[1;33m=\u001b[0m \u001b[0mtf\u001b[0m\u001b[1;33m.\u001b[0m\u001b[0mexpand_dims\u001b[0m\u001b[1;33m(\u001b[0m\u001b[0mimg_array\u001b[0m\u001b[1;33m,\u001b[0m \u001b[1;36m0\u001b[0m\u001b[1;33m)\u001b[0m\u001b[1;33m\u001b[0m\u001b[1;33m\u001b[0m\u001b[0m\n\u001b[0;32m      5\u001b[0m \u001b[1;33m\u001b[0m\u001b[0m\n",
      "\u001b[1;31mNameError\u001b[0m: name 'keras' is not defined"
     ]
    }
   ],
   "metadata": {}
  },
  {
   "cell_type": "code",
   "execution_count": 121,
   "source": [
    "model.save(\"./model\")"
   ],
   "outputs": [
    {
     "output_type": "stream",
     "name": "stdout",
     "text": [
      "INFO:tensorflow:Assets written to: ./model\\assets\n"
     ]
    }
   ],
   "metadata": {}
  }
 ],
 "metadata": {
  "orig_nbformat": 4,
  "language_info": {
   "name": "python",
   "version": "3.9.4",
   "mimetype": "text/x-python",
   "codemirror_mode": {
    "name": "ipython",
    "version": 3
   },
   "pygments_lexer": "ipython3",
   "nbconvert_exporter": "python",
   "file_extension": ".py"
  },
  "kernelspec": {
   "name": "python3",
   "display_name": "Python 3.9.4 64-bit"
  },
  "interpreter": {
   "hash": "6cbb16c13b18e0460413e9178e417aef82e3a5f0d8a809cc8c4ffdee2c561ffd"
  }
 },
 "nbformat": 4,
 "nbformat_minor": 2
}